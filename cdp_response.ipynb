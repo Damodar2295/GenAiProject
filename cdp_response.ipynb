{
 "cells": [
  {
   "cell_type": "code",
   "execution_count": 28,
   "id": "25d3bc07-fbed-4800-b337-8c51c3488576",
   "metadata": {
    "tags": []
   },
   "outputs": [],
   "source": [
    "companies = ['Regal Rexnord','Ametek, Inc.','Crane Co.','IDEX','ESCO','Nordson','SPX','Franklin','WATTS']"
   ]
  },
  {
   "cell_type": "code",
   "execution_count": 17,
   "id": "8485a28a-b40f-403f-8c5c-84225ba6aef5",
   "metadata": {
    "tags": []
   },
   "outputs": [],
   "source": [
    "import re\n",
    "import requests"
   ]
  },
  {
   "cell_type": "code",
   "execution_count": 24,
   "id": "b172c157-deb1-4e54-99d2-39800e0d1493",
   "metadata": {
    "tags": []
   },
   "outputs": [],
   "source": [
    "import re\n",
    "import requests\n",
    "\n",
    "def get_cdp_rating(company_name):\n",
    "    try:\n",
    "        url = \"https://www.cdp.net/en/responses?queries%5Bname%5D=\" + company_name.replace(\" \", \"+\")\n",
    "        response = requests.get(url)\n",
    "        if response.status_code == 200:\n",
    "            content = response.content.decode('utf-8')  # Decode content assuming UTF-8 encoding\n",
    "            # print(content)\n",
    "\n",
    "            # Define your regex pattern\n",
    "            regex_pattern = r''+company_name+'</a>\\n</td>\\n<td>\\nClimate Change 2022\\n</td>\\n<td class=\\'search_results__project_year\\'>\\n2022\\n</td>\\n<td class=\\'search_results__response_status\\'>\\nSubmitted\\n</td>\\n<td class=\\'search_results__response_score_band\\'>\\n<div class=\\'investor-program__score_band_wrapper\\'>\\n<div class=\\'investor-program__score_link\\'>\\n<div class=\\'investor-program__score_band_single tooltip-top investor-program__score_band--climate-change\\' title=\\'Climate Change\\'>\\n(.*?)\\n</div>'\n",
    "            # print(regex_pattern)\n",
    "            # Search for the pattern in the content\n",
    "            matches = re.findall(regex_pattern, content)\n",
    "\n",
    "            if matches:\n",
    "                return matches[0]\n",
    "            else:\n",
    "                return None\n",
    "\n",
    "        else:\n",
    "            return None\n",
    "    except requests.exceptions.RequestException as e:\n",
    "        print(\"Error:\", e)\n",
    "    return None"
   ]
  },
  {
   "cell_type": "code",
   "execution_count": 29,
   "id": "31b32cea-d03f-4a0d-b8e1-3f2e5d115303",
   "metadata": {
    "tags": []
   },
   "outputs": [
    {
     "name": "stdout",
     "output_type": "stream",
     "text": [
      "Regal Rexnord score: D\n",
      "Ametek, Inc. score: None\n",
      "Crane Co. score: None\n",
      "IDEX score: None\n",
      "ESCO score: None\n",
      "Nordson score: None\n",
      "SPX score: None\n",
      "Franklin score: None\n",
      "WATTS score: None\n"
     ]
    }
   ],
   "source": [
    "for company_name in companies:\n",
    "    print(f'{company_name} score: {get_cdp_rating(company_name)}')"
   ]
  },
  {
   "cell_type": "code",
   "execution_count": null,
   "id": "709eb2f7-7258-48da-a9fd-326f248d0803",
   "metadata": {},
   "outputs": [],
   "source": []
  }
 ],
 "metadata": {
  "environment": {
   "kernel": "python3",
   "name": "tf2-cpu.2-11.m118",
   "type": "gcloud",
   "uri": "us-docker.pkg.dev/deeplearning-platform-release/gcr.io/tf2-cpu.2-11:m118"
  },
  "kernelspec": {
   "display_name": "Python 3",
   "language": "python",
   "name": "python3"
  },
  "language_info": {
   "codemirror_mode": {
    "name": "ipython",
    "version": 3
   },
   "file_extension": ".py",
   "mimetype": "text/x-python",
   "name": "python",
   "nbconvert_exporter": "python",
   "pygments_lexer": "ipython3",
   "version": "3.10.13"
  }
 },
 "nbformat": 4,
 "nbformat_minor": 5
}
